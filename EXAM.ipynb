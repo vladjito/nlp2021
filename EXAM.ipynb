{
  "nbformat": 4,
  "nbformat_minor": 0,
  "metadata": {
    "colab": {
      "name": "Untitled5.ipynb",
      "provenance": [],
      "mount_file_id": "1HHKLxjq4XUJOYI_64q7OHwX4QS2UOqHq",
      "authorship_tag": "ABX9TyO3L2ldRPhLR401rajleOt8",
      "include_colab_link": true
    },
    "kernelspec": {
      "name": "python3",
      "display_name": "Python 3"
    },
    "language_info": {
      "name": "python"
    },
    "accelerator": "GPU"
  },
  "cells": [
    {
      "cell_type": "markdown",
      "metadata": {
        "id": "view-in-github",
        "colab_type": "text"
      },
      "source": [
        "<a href=\"https://colab.research.google.com/github/vladjito/nlp2021/blob/main/EXAM.ipynb\" target=\"_parent\"><img src=\"https://colab.research.google.com/assets/colab-badge.svg\" alt=\"Open In Colab\"/></a>"
      ]
    },
    {
      "cell_type": "markdown",
      "source": [
        "#Березовський Владислав Юрійович, ТШІ-21, Практичне завдання іспиту з дисципліни Методи обробки природньомовної інформації, 13.12.21"
      ],
      "metadata": {
        "id": "S5NMlSy5JLvf"
      }
    },
    {
      "cell_type": "markdown",
      "source": [
        "#Умова"
      ],
      "metadata": {
        "id": "nCXjcg2xJTLb"
      }
    },
    {
      "cell_type": "markdown",
      "source": [
        "Варіант № 3\n",
        "\n",
        "Завдання:\n",
        "Розробити Jupyter Notebook для вирішення завдання класифікації тексту\n",
        "на основі набору даних:\n",
        "https://drive.google.com/drive/folders/1cYLsyazwxMUSICumvIhv5jGJe6K7iAHa?usp=sharing\n",
        "\n",
        "Забезпечити виконання наступних етапів:\n",
        "1. Завантаження та попередній аналіз даних.\n",
        "2. Створення тренувального та тестувального наборів даних.\n",
        "3. Попередню оцінку точності моделі за допомогою методу Naive Bayes.\n",
        "4. Вирішення задачі класифікації за допомогою методу Feed-forward model.\n",
        "5. Графічне відображення тренування моделі.\n",
        "6. Порівняння результатів, отриманих у п.п. 3,4\n",
        "7. Висновки.\n",
        "\n",
        "Структура звітного документу:\n",
        "Заголовок роботи (Markdown: П.І.Б., група, назва роботи (Практичне завдання іспиту з дисципліни...), дата складання.)\n",
        "Етапи роботи (Номер та назва етапу (частини етапу),  код з коментарями.)\n",
        "\n",
        "Використати технології: Tensorflow, Google Colab.\n",
        "Результати викласти у форматі [your_surname].ipynb у папку Exam репозиторію GitHub."
      ],
      "metadata": {
        "id": "yQHEK2_515Qe"
      }
    },
    {
      "cell_type": "markdown",
      "source": [
        "#Завантаження та попердній аналіз даних"
      ],
      "metadata": {
        "id": "2_r3a8uPJVue"
      }
    },
    {
      "cell_type": "code",
      "execution_count": 53,
      "metadata": {
        "id": "2zqEjCj1YMlI"
      },
      "outputs": [],
      "source": [
        "import numpy as np\n",
        "import pandas as pd\n",
        "import tensorflow as tf, requests as rqst, io\n",
        "from tensorflow.keras.layers.experimental.preprocessing import TextVectorization\n",
        "from tensorflow.keras import layers\n",
        "\n",
        "rnd = np.random.randint"
      ]
    },
    {
      "cell_type": "code",
      "source": [
        "!wget https://raw.githubusercontent.com/mrdbourke/tensorflow-deep-learning/main/extras/helper_functions.py\n",
        "\n",
        "from helper_functions import unzip_data, create_tensorboard_callback, plot_loss_curves, compare_historys"
      ],
      "metadata": {
        "colab": {
          "base_uri": "https://localhost:8080/"
        },
        "id": "kzUzI0nYYX_v",
        "outputId": "e7ca1791-769c-42e0-fb5b-1d2042059491"
      },
      "execution_count": 54,
      "outputs": [
        {
          "output_type": "stream",
          "name": "stdout",
          "text": [
            "--2021-12-13 09:02:01--  https://raw.githubusercontent.com/mrdbourke/tensorflow-deep-learning/main/extras/helper_functions.py\n",
            "Resolving raw.githubusercontent.com (raw.githubusercontent.com)... 185.199.108.133, 185.199.109.133, 185.199.110.133, ...\n",
            "Connecting to raw.githubusercontent.com (raw.githubusercontent.com)|185.199.108.133|:443... connected.\n",
            "HTTP request sent, awaiting response... 200 OK\n",
            "Length: 10246 (10K) [text/plain]\n",
            "Saving to: ‘helper_functions.py.3’\n",
            "\n",
            "\rhelper_functions.py   0%[                    ]       0  --.-KB/s               \rhelper_functions.py 100%[===================>]  10.01K  --.-KB/s    in 0s      \n",
            "\n",
            "2021-12-13 09:02:01 (86.1 MB/s) - ‘helper_functions.py.3’ saved [10246/10246]\n",
            "\n"
          ]
        }
      ]
    },
    {
      "cell_type": "code",
      "source": [
        "from google.colab import drive\n",
        "drive.mount('/content/drive')"
      ],
      "metadata": {
        "colab": {
          "base_uri": "https://localhost:8080/"
        },
        "id": "fNSjP84LYffI",
        "outputId": "5db86229-8cf0-468a-f206-9e823285beaf"
      },
      "execution_count": 55,
      "outputs": [
        {
          "output_type": "stream",
          "name": "stdout",
          "text": [
            "Drive already mounted at /content/drive; to attempt to forcibly remount, call drive.mount(\"/content/drive\", force_remount=True).\n"
          ]
        }
      ]
    },
    {
      "cell_type": "code",
      "source": [
        "train_df = pd.read_csv(\"/content/drive/MyDrive/NLP/train.csv\")\n",
        "test_df = pd.read_csv(\"/content/drive/MyDrive/NLP/valid.csv\")\n",
        "\n",
        "train_df"
      ],
      "metadata": {
        "colab": {
          "base_uri": "https://localhost:8080/",
          "height": 597
        },
        "id": "uLWoUytTYl4p",
        "outputId": "681bd9d0-4959-4d4e-b0a9-29a69bf8b8d1"
      },
      "execution_count": 61,
      "outputs": [
        {
          "output_type": "execute_result",
          "data": {
            "text/html": [
              "<div>\n",
              "<style scoped>\n",
              "    .dataframe tbody tr th:only-of-type {\n",
              "        vertical-align: middle;\n",
              "    }\n",
              "\n",
              "    .dataframe tbody tr th {\n",
              "        vertical-align: top;\n",
              "    }\n",
              "\n",
              "    .dataframe thead th {\n",
              "        text-align: right;\n",
              "    }\n",
              "</style>\n",
              "<table border=\"1\" class=\"dataframe\">\n",
              "  <thead>\n",
              "    <tr style=\"text-align: right;\">\n",
              "      <th></th>\n",
              "      <th>Id</th>\n",
              "      <th>Title</th>\n",
              "      <th>Body</th>\n",
              "      <th>Tags</th>\n",
              "      <th>CreationDate</th>\n",
              "      <th>Y</th>\n",
              "    </tr>\n",
              "  </thead>\n",
              "  <tbody>\n",
              "    <tr>\n",
              "      <th>0</th>\n",
              "      <td>34552656</td>\n",
              "      <td>Java: Repeat Task Every Random Seconds</td>\n",
              "      <td>&lt;p&gt;I'm already familiar with repeating tasks e...</td>\n",
              "      <td>&lt;java&gt;&lt;repeat&gt;</td>\n",
              "      <td>2016-01-01 00:21:59</td>\n",
              "      <td>LQ_CLOSE</td>\n",
              "    </tr>\n",
              "    <tr>\n",
              "      <th>1</th>\n",
              "      <td>34553034</td>\n",
              "      <td>Why are Java Optionals immutable?</td>\n",
              "      <td>&lt;p&gt;I'd like to understand why Java 8 Optionals...</td>\n",
              "      <td>&lt;java&gt;&lt;optional&gt;</td>\n",
              "      <td>2016-01-01 02:03:20</td>\n",
              "      <td>HQ</td>\n",
              "    </tr>\n",
              "    <tr>\n",
              "      <th>2</th>\n",
              "      <td>34553174</td>\n",
              "      <td>Text Overlay Image with Darkened Opacity React...</td>\n",
              "      <td>&lt;p&gt;I am attempting to overlay a title over an ...</td>\n",
              "      <td>&lt;javascript&gt;&lt;image&gt;&lt;overlay&gt;&lt;react-native&gt;&lt;opa...</td>\n",
              "      <td>2016-01-01 02:48:24</td>\n",
              "      <td>HQ</td>\n",
              "    </tr>\n",
              "    <tr>\n",
              "      <th>3</th>\n",
              "      <td>34553318</td>\n",
              "      <td>Why ternary operator in swift is so picky?</td>\n",
              "      <td>&lt;p&gt;The question is very simple, but I just cou...</td>\n",
              "      <td>&lt;swift&gt;&lt;operators&gt;&lt;whitespace&gt;&lt;ternary-operato...</td>\n",
              "      <td>2016-01-01 03:30:17</td>\n",
              "      <td>HQ</td>\n",
              "    </tr>\n",
              "    <tr>\n",
              "      <th>4</th>\n",
              "      <td>34553755</td>\n",
              "      <td>hide/show fab with scale animation</td>\n",
              "      <td>&lt;p&gt;I'm using custom floatingactionmenu. I need...</td>\n",
              "      <td>&lt;android&gt;&lt;material-design&gt;&lt;floating-action-but...</td>\n",
              "      <td>2016-01-01 05:21:48</td>\n",
              "      <td>HQ</td>\n",
              "    </tr>\n",
              "    <tr>\n",
              "      <th>...</th>\n",
              "      <td>...</td>\n",
              "      <td>...</td>\n",
              "      <td>...</td>\n",
              "      <td>...</td>\n",
              "      <td>...</td>\n",
              "      <td>...</td>\n",
              "    </tr>\n",
              "    <tr>\n",
              "      <th>44995</th>\n",
              "      <td>60461435</td>\n",
              "      <td>Convert List&lt;String&gt; to string C# - asp.net - ...</td>\n",
              "      <td>&lt;p&gt;I am new to this and I am asking for help t...</td>\n",
              "      <td>&lt;c#&gt;&lt;asp.net&gt;&lt;sql-server&gt;</td>\n",
              "      <td>2020-02-29 02:22:18</td>\n",
              "      <td>LQ_CLOSE</td>\n",
              "    </tr>\n",
              "    <tr>\n",
              "      <th>44996</th>\n",
              "      <td>60461754</td>\n",
              "      <td>Does Python execute code from the top or botto...</td>\n",
              "      <td>&lt;p&gt;I am working on learning Python and was won...</td>\n",
              "      <td>&lt;python&gt;</td>\n",
              "      <td>2020-02-29 03:33:59</td>\n",
              "      <td>LQ_CLOSE</td>\n",
              "    </tr>\n",
              "    <tr>\n",
              "      <th>44997</th>\n",
              "      <td>60462001</td>\n",
              "      <td>how to change payment date in Azure?</td>\n",
              "      <td>&lt;p&gt;It looks like it costs 8 days per month in ...</td>\n",
              "      <td>&lt;azure&gt;&lt;billing&gt;</td>\n",
              "      <td>2020-02-29 04:34:16</td>\n",
              "      <td>LQ_CLOSE</td>\n",
              "    </tr>\n",
              "    <tr>\n",
              "      <th>44998</th>\n",
              "      <td>60465318</td>\n",
              "      <td>how to implement fill in the blank in Swift</td>\n",
              "      <td>&lt;p&gt;\"I _____ any questions.\"&lt;/p&gt;\\n\\n&lt;p&gt;I want t...</td>\n",
              "      <td>&lt;ios&gt;&lt;swift&gt;</td>\n",
              "      <td>2020-02-29 12:50:43</td>\n",
              "      <td>LQ_CLOSE</td>\n",
              "    </tr>\n",
              "    <tr>\n",
              "      <th>44999</th>\n",
              "      <td>60468018</td>\n",
              "      <td>How can I make a c# application outside of vis...</td>\n",
              "      <td>&lt;p&gt;I'm very new to programming and I'm teachin...</td>\n",
              "      <td>&lt;c#&gt;&lt;visual-studio&gt;</td>\n",
              "      <td>2020-02-29 17:55:56</td>\n",
              "      <td>LQ_CLOSE</td>\n",
              "    </tr>\n",
              "  </tbody>\n",
              "</table>\n",
              "<p>45000 rows × 6 columns</p>\n",
              "</div>"
            ],
            "text/plain": [
              "             Id  ...         Y\n",
              "0      34552656  ...  LQ_CLOSE\n",
              "1      34553034  ...        HQ\n",
              "2      34553174  ...        HQ\n",
              "3      34553318  ...        HQ\n",
              "4      34553755  ...        HQ\n",
              "...         ...  ...       ...\n",
              "44995  60461435  ...  LQ_CLOSE\n",
              "44996  60461754  ...  LQ_CLOSE\n",
              "44997  60462001  ...  LQ_CLOSE\n",
              "44998  60465318  ...  LQ_CLOSE\n",
              "44999  60468018  ...  LQ_CLOSE\n",
              "\n",
              "[45000 rows x 6 columns]"
            ]
          },
          "metadata": {},
          "execution_count": 61
        }
      ]
    },
    {
      "cell_type": "code",
      "source": [
        "train_df.Y.value_counts()"
      ],
      "metadata": {
        "colab": {
          "base_uri": "https://localhost:8080/"
        },
        "id": "TiySQIyI4L_3",
        "outputId": "919cc401-f57f-47df-a226-b7063268ed56"
      },
      "execution_count": 62,
      "outputs": [
        {
          "output_type": "execute_result",
          "data": {
            "text/plain": [
              "LQ_CLOSE    15000\n",
              "LQ_EDIT     15000\n",
              "HQ          15000\n",
              "Name: Y, dtype: int64"
            ]
          },
          "metadata": {},
          "execution_count": 62
        }
      ]
    },
    {
      "cell_type": "code",
      "source": [
        "test_df.Y.value_counts()"
      ],
      "metadata": {
        "colab": {
          "base_uri": "https://localhost:8080/"
        },
        "id": "0vS0zM737PLj",
        "outputId": "0baf198c-051f-41cf-fefe-2c502cd5975c"
      },
      "execution_count": 63,
      "outputs": [
        {
          "output_type": "execute_result",
          "data": {
            "text/plain": [
              "LQ_EDIT     5000\n",
              "LQ_CLOSE    5000\n",
              "HQ          5000\n",
              "Name: Y, dtype: int64"
            ]
          },
          "metadata": {},
          "execution_count": 63
        }
      ]
    },
    {
      "cell_type": "code",
      "source": [
        "train_df[\"Sentence\"] = train_df[\"Title\"].astype(str) + \" \" + train_df[\"Body\"].astype(str).str.zfill(6)\n",
        "test_df[\"Sentence\"] = test_df[\"Title\"].astype(str) + \" \" + test_df[\"Body\"].astype(str).str.zfill(6)"
      ],
      "metadata": {
        "id": "yZdMyYwu9m11"
      },
      "execution_count": 64,
      "outputs": []
    },
    {
      "cell_type": "code",
      "source": [
        "train_df.pop('Id') \n",
        "train_df.pop('Title')\n",
        "train_df.pop('Body')\n",
        "train_df.pop('Tags')\n",
        "train_df.pop('CreationDate')\n",
        "test_df.pop('Id')\n",
        "test_df.pop('Title')\n",
        "test_df.pop('Body')\n",
        "test_df.pop('Tags')\n",
        "test_df.pop('CreationDate')\n"
      ],
      "metadata": {
        "colab": {
          "base_uri": "https://localhost:8080/"
        },
        "id": "Vxdc4Hf86ojD",
        "outputId": "89b25c9d-38f2-4c96-8f26-9054e47b8282"
      },
      "execution_count": 65,
      "outputs": [
        {
          "output_type": "execute_result",
          "data": {
            "text/plain": [
              "0        2016-01-01 01:44:52\n",
              "1        2016-01-01 08:43:50\n",
              "2        2016-01-01 09:55:22\n",
              "3        2016-01-01 10:43:45\n",
              "4        2016-01-01 11:34:09\n",
              "                ...         \n",
              "14995    2020-02-29 13:32:56\n",
              "14996    2020-02-29 17:46:41\n",
              "14997    2020-02-29 18:35:39\n",
              "14998    2020-02-29 20:32:14\n",
              "14999    2020-02-29 22:45:56\n",
              "Name: CreationDate, Length: 15000, dtype: object"
            ]
          },
          "metadata": {},
          "execution_count": 65
        }
      ]
    },
    {
      "cell_type": "code",
      "source": [
        "train_df_shuffled = train_df.sample(frac=1, random_state=42)\n",
        "train_df_shuffled.head()"
      ],
      "metadata": {
        "colab": {
          "base_uri": "https://localhost:8080/",
          "height": 206
        },
        "id": "n_yzzZFnBp38",
        "outputId": "c33e5ba3-cad7-44eb-c758-fc12402851b7"
      },
      "execution_count": 66,
      "outputs": [
        {
          "output_type": "execute_result",
          "data": {
            "text/html": [
              "<div>\n",
              "<style scoped>\n",
              "    .dataframe tbody tr th:only-of-type {\n",
              "        vertical-align: middle;\n",
              "    }\n",
              "\n",
              "    .dataframe tbody tr th {\n",
              "        vertical-align: top;\n",
              "    }\n",
              "\n",
              "    .dataframe thead th {\n",
              "        text-align: right;\n",
              "    }\n",
              "</style>\n",
              "<table border=\"1\" class=\"dataframe\">\n",
              "  <thead>\n",
              "    <tr style=\"text-align: right;\">\n",
              "      <th></th>\n",
              "      <th>Y</th>\n",
              "      <th>Sentence</th>\n",
              "    </tr>\n",
              "  </thead>\n",
              "  <tbody>\n",
              "    <tr>\n",
              "      <th>37979</th>\n",
              "      <td>LQ_CLOSE</td>\n",
              "      <td>not able to run function in php &lt;p&gt;I'am not ab...</td>\n",
              "    </tr>\n",
              "    <tr>\n",
              "      <th>9911</th>\n",
              "      <td>HQ</td>\n",
              "      <td>Export GIT LOG into an Excel file &lt;p&gt;I have lo...</td>\n",
              "    </tr>\n",
              "    <tr>\n",
              "      <th>43386</th>\n",
              "      <td>LQ_EDIT</td>\n",
              "      <td>How to summarize the employees by net revenue ...</td>\n",
              "    </tr>\n",
              "    <tr>\n",
              "      <th>13822</th>\n",
              "      <td>LQ_EDIT</td>\n",
              "      <td>how to retrieve words based on user inputting ...</td>\n",
              "    </tr>\n",
              "    <tr>\n",
              "      <th>44810</th>\n",
              "      <td>LQ_EDIT</td>\n",
              "      <td>how to use val insted of var in scala I simply...</td>\n",
              "    </tr>\n",
              "  </tbody>\n",
              "</table>\n",
              "</div>"
            ],
            "text/plain": [
              "              Y                                           Sentence\n",
              "37979  LQ_CLOSE  not able to run function in php <p>I'am not ab...\n",
              "9911         HQ  Export GIT LOG into an Excel file <p>I have lo...\n",
              "43386   LQ_EDIT  How to summarize the employees by net revenue ...\n",
              "13822   LQ_EDIT  how to retrieve words based on user inputting ...\n",
              "44810   LQ_EDIT  how to use val insted of var in scala I simply..."
            ]
          },
          "metadata": {},
          "execution_count": 66
        }
      ]
    },
    {
      "cell_type": "code",
      "source": [
        "train_df['Target'] = train_df['Y']\n",
        "train_df.replace({'Target':{'HQ':1, 'LQ_CLOSE':2, 'LQ_EDIT':0}}, inplace=True)\n",
        "\n",
        "test_df['Target'] = test_df['Y']\n",
        "test_df.replace({'Target':{'HQ':1, 'LQ_CLOSE':2, 'LQ_EDIT':0}}, inplace=True)\n",
        "\n",
        "train_df"
      ],
      "metadata": {
        "colab": {
          "base_uri": "https://localhost:8080/",
          "height": 424
        },
        "id": "EFqaLINYYsfw",
        "outputId": "14ecdb1f-d174-4e81-f86f-b6f5d77d3b58"
      },
      "execution_count": 68,
      "outputs": [
        {
          "output_type": "execute_result",
          "data": {
            "text/html": [
              "<div>\n",
              "<style scoped>\n",
              "    .dataframe tbody tr th:only-of-type {\n",
              "        vertical-align: middle;\n",
              "    }\n",
              "\n",
              "    .dataframe tbody tr th {\n",
              "        vertical-align: top;\n",
              "    }\n",
              "\n",
              "    .dataframe thead th {\n",
              "        text-align: right;\n",
              "    }\n",
              "</style>\n",
              "<table border=\"1\" class=\"dataframe\">\n",
              "  <thead>\n",
              "    <tr style=\"text-align: right;\">\n",
              "      <th></th>\n",
              "      <th>Y</th>\n",
              "      <th>Sentence</th>\n",
              "      <th>Target</th>\n",
              "    </tr>\n",
              "  </thead>\n",
              "  <tbody>\n",
              "    <tr>\n",
              "      <th>0</th>\n",
              "      <td>LQ_CLOSE</td>\n",
              "      <td>Java: Repeat Task Every Random Seconds &lt;p&gt;I'm ...</td>\n",
              "      <td>2</td>\n",
              "    </tr>\n",
              "    <tr>\n",
              "      <th>1</th>\n",
              "      <td>HQ</td>\n",
              "      <td>Why are Java Optionals immutable? &lt;p&gt;I'd like ...</td>\n",
              "      <td>1</td>\n",
              "    </tr>\n",
              "    <tr>\n",
              "      <th>2</th>\n",
              "      <td>HQ</td>\n",
              "      <td>Text Overlay Image with Darkened Opacity React...</td>\n",
              "      <td>1</td>\n",
              "    </tr>\n",
              "    <tr>\n",
              "      <th>3</th>\n",
              "      <td>HQ</td>\n",
              "      <td>Why ternary operator in swift is so picky? &lt;p&gt;...</td>\n",
              "      <td>1</td>\n",
              "    </tr>\n",
              "    <tr>\n",
              "      <th>4</th>\n",
              "      <td>HQ</td>\n",
              "      <td>hide/show fab with scale animation &lt;p&gt;I'm usin...</td>\n",
              "      <td>1</td>\n",
              "    </tr>\n",
              "    <tr>\n",
              "      <th>...</th>\n",
              "      <td>...</td>\n",
              "      <td>...</td>\n",
              "      <td>...</td>\n",
              "    </tr>\n",
              "    <tr>\n",
              "      <th>44995</th>\n",
              "      <td>LQ_CLOSE</td>\n",
              "      <td>Convert List&lt;String&gt; to string C# - asp.net - ...</td>\n",
              "      <td>2</td>\n",
              "    </tr>\n",
              "    <tr>\n",
              "      <th>44996</th>\n",
              "      <td>LQ_CLOSE</td>\n",
              "      <td>Does Python execute code from the top or botto...</td>\n",
              "      <td>2</td>\n",
              "    </tr>\n",
              "    <tr>\n",
              "      <th>44997</th>\n",
              "      <td>LQ_CLOSE</td>\n",
              "      <td>how to change payment date in Azure? &lt;p&gt;It loo...</td>\n",
              "      <td>2</td>\n",
              "    </tr>\n",
              "    <tr>\n",
              "      <th>44998</th>\n",
              "      <td>LQ_CLOSE</td>\n",
              "      <td>how to implement fill in the blank in Swift &lt;p...</td>\n",
              "      <td>2</td>\n",
              "    </tr>\n",
              "    <tr>\n",
              "      <th>44999</th>\n",
              "      <td>LQ_CLOSE</td>\n",
              "      <td>How can I make a c# application outside of vis...</td>\n",
              "      <td>2</td>\n",
              "    </tr>\n",
              "  </tbody>\n",
              "</table>\n",
              "<p>45000 rows × 3 columns</p>\n",
              "</div>"
            ],
            "text/plain": [
              "              Y                                           Sentence  Target\n",
              "0      LQ_CLOSE  Java: Repeat Task Every Random Seconds <p>I'm ...       2\n",
              "1            HQ  Why are Java Optionals immutable? <p>I'd like ...       1\n",
              "2            HQ  Text Overlay Image with Darkened Opacity React...       1\n",
              "3            HQ  Why ternary operator in swift is so picky? <p>...       1\n",
              "4            HQ  hide/show fab with scale animation <p>I'm usin...       1\n",
              "...         ...                                                ...     ...\n",
              "44995  LQ_CLOSE  Convert List<String> to string C# - asp.net - ...       2\n",
              "44996  LQ_CLOSE  Does Python execute code from the top or botto...       2\n",
              "44997  LQ_CLOSE  how to change payment date in Azure? <p>It loo...       2\n",
              "44998  LQ_CLOSE  how to implement fill in the blank in Swift <p...       2\n",
              "44999  LQ_CLOSE  How can I make a c# application outside of vis...       2\n",
              "\n",
              "[45000 rows x 3 columns]"
            ]
          },
          "metadata": {},
          "execution_count": 68
        }
      ]
    },
    {
      "cell_type": "code",
      "source": [
        "test_df"
      ],
      "metadata": {
        "colab": {
          "base_uri": "https://localhost:8080/",
          "height": 424
        },
        "id": "92EQ7-MvCgEB",
        "outputId": "dcaeecf0-d1ce-449b-d017-6369a5dd8f39"
      },
      "execution_count": 69,
      "outputs": [
        {
          "output_type": "execute_result",
          "data": {
            "text/html": [
              "<div>\n",
              "<style scoped>\n",
              "    .dataframe tbody tr th:only-of-type {\n",
              "        vertical-align: middle;\n",
              "    }\n",
              "\n",
              "    .dataframe tbody tr th {\n",
              "        vertical-align: top;\n",
              "    }\n",
              "\n",
              "    .dataframe thead th {\n",
              "        text-align: right;\n",
              "    }\n",
              "</style>\n",
              "<table border=\"1\" class=\"dataframe\">\n",
              "  <thead>\n",
              "    <tr style=\"text-align: right;\">\n",
              "      <th></th>\n",
              "      <th>Y</th>\n",
              "      <th>Sentence</th>\n",
              "      <th>Target</th>\n",
              "    </tr>\n",
              "  </thead>\n",
              "  <tbody>\n",
              "    <tr>\n",
              "      <th>0</th>\n",
              "      <td>LQ_EDIT</td>\n",
              "      <td>How to get all the child records from differen...</td>\n",
              "      <td>0</td>\n",
              "    </tr>\n",
              "    <tr>\n",
              "      <th>1</th>\n",
              "      <td>LQ_EDIT</td>\n",
              "      <td>Retrieve all except some data of the another t...</td>\n",
              "      <td>0</td>\n",
              "    </tr>\n",
              "    <tr>\n",
              "      <th>2</th>\n",
              "      <td>HQ</td>\n",
              "      <td>Pandas: read_html &lt;p&gt;I'm trying to extract US ...</td>\n",
              "      <td>1</td>\n",
              "    </tr>\n",
              "    <tr>\n",
              "      <th>3</th>\n",
              "      <td>LQ_EDIT</td>\n",
              "      <td>Reader Always gimme NULL I'm so new to C#, I w...</td>\n",
              "      <td>0</td>\n",
              "    </tr>\n",
              "    <tr>\n",
              "      <th>4</th>\n",
              "      <td>LQ_EDIT</td>\n",
              "      <td>php rearrange array elements based on conditio...</td>\n",
              "      <td>0</td>\n",
              "    </tr>\n",
              "    <tr>\n",
              "      <th>...</th>\n",
              "      <td>...</td>\n",
              "      <td>...</td>\n",
              "      <td>...</td>\n",
              "    </tr>\n",
              "    <tr>\n",
              "      <th>14995</th>\n",
              "      <td>LQ_CLOSE</td>\n",
              "      <td>How can I align two flex boxes to follow each ...</td>\n",
              "      <td>2</td>\n",
              "    </tr>\n",
              "    <tr>\n",
              "      <th>14996</th>\n",
              "      <td>LQ_CLOSE</td>\n",
              "      <td>C++ The correct way to multiply an integer and...</td>\n",
              "      <td>2</td>\n",
              "    </tr>\n",
              "    <tr>\n",
              "      <th>14997</th>\n",
              "      <td>LQ_EDIT</td>\n",
              "      <td>WHY DJANGO IS SHOWING ME THIS ERROR WHEN I TRY...</td>\n",
              "      <td>0</td>\n",
              "    </tr>\n",
              "    <tr>\n",
              "      <th>14998</th>\n",
              "      <td>LQ_CLOSE</td>\n",
              "      <td>PHP - getting the content of php page &lt;p&gt;I hav...</td>\n",
              "      <td>2</td>\n",
              "    </tr>\n",
              "    <tr>\n",
              "      <th>14999</th>\n",
              "      <td>LQ_CLOSE</td>\n",
              "      <td>Why can't overloaded functions vary only by re...</td>\n",
              "      <td>2</td>\n",
              "    </tr>\n",
              "  </tbody>\n",
              "</table>\n",
              "<p>15000 rows × 3 columns</p>\n",
              "</div>"
            ],
            "text/plain": [
              "              Y                                           Sentence  Target\n",
              "0       LQ_EDIT  How to get all the child records from differen...       0\n",
              "1       LQ_EDIT  Retrieve all except some data of the another t...       0\n",
              "2            HQ  Pandas: read_html <p>I'm trying to extract US ...       1\n",
              "3       LQ_EDIT  Reader Always gimme NULL I'm so new to C#, I w...       0\n",
              "4       LQ_EDIT  php rearrange array elements based on conditio...       0\n",
              "...         ...                                                ...     ...\n",
              "14995  LQ_CLOSE  How can I align two flex boxes to follow each ...       2\n",
              "14996  LQ_CLOSE  C++ The correct way to multiply an integer and...       2\n",
              "14997   LQ_EDIT  WHY DJANGO IS SHOWING ME THIS ERROR WHEN I TRY...       0\n",
              "14998  LQ_CLOSE  PHP - getting the content of php page <p>I hav...       2\n",
              "14999  LQ_CLOSE  Why can't overloaded functions vary only by re...       2\n",
              "\n",
              "[15000 rows x 3 columns]"
            ]
          },
          "metadata": {},
          "execution_count": 69
        }
      ]
    },
    {
      "cell_type": "markdown",
      "source": [
        "#Векторизація та Ембедінг"
      ],
      "metadata": {
        "id": "tMDXQAMHJflW"
      }
    },
    {
      "cell_type": "code",
      "source": [
        "round(sum([len(i.split()) for i in train_sentences])/len(train_sentences))"
      ],
      "metadata": {
        "colab": {
          "base_uri": "https://localhost:8080/"
        },
        "id": "379UXtUd_BfY",
        "outputId": "e3592efb-c4ba-4fd5-d0ae-89fbe4d23208"
      },
      "execution_count": 70,
      "outputs": [
        {
          "output_type": "execute_result",
          "data": {
            "text/plain": [
              "9"
            ]
          },
          "metadata": {},
          "execution_count": 70
        }
      ]
    },
    {
      "cell_type": "code",
      "source": [
        "max_vocab_length = 10000\n",
        "max_length = 9 \n",
        "\n",
        "text_vectorizer = TextVectorization(max_tokens=max_vocab_length,\n",
        "                                    output_mode=\"int\",\n",
        "                                    output_sequence_length=max_length)\n",
        "\n",
        "text_vectorizer.adapt(train_df['Sentence'])\n",
        "text_vectorizer.adapt(test_df['Sentence'])\n",
        "\n",
        "text_vectorizer(train_df['Sentence'])"
      ],
      "metadata": {
        "colab": {
          "base_uri": "https://localhost:8080/"
        },
        "id": "sG15R3o172m2",
        "outputId": "7cd61cbd-68aa-424a-eb8d-b64173973cf5"
      },
      "execution_count": 74,
      "outputs": [
        {
          "output_type": "execute_result",
          "data": {
            "text/plain": [
              "<tf.Tensor: shape=(45000, 9), dtype=int64, numpy=\n",
              "array([[ 163, 1951,  550, ...,  143,  314, 2656],\n",
              "       [ 118,   53,  163, ...,   43,    3,  258],\n",
              "       [ 115, 3742,   94, ...,  316,  642,   24],\n",
              "       ...,\n",
              "       [  19,    3,  175, ..., 1205,  613,  400],\n",
              "       [  19,    3,  505, ..., 1597,    6,  447],\n",
              "       [  19,   26,    4, ...,  158, 1017,    9]])>"
            ]
          },
          "metadata": {},
          "execution_count": 74
        }
      ]
    },
    {
      "cell_type": "code",
      "source": [
        "embedding = layers.Embedding(input_dim=max_vocab_length, # set input shape\n",
        "                             output_dim=128, # set size of embedding vector\n",
        "                             embeddings_initializer=\"uniform\", # default, intialize randomly\n",
        "                             input_length=max_length) # how long is each input\n",
        "\n",
        "embedding(text_vectorizer(test_df['Sentence']))\n",
        "embedding(text_vectorizer(train_df['Sentence']))"
      ],
      "metadata": {
        "colab": {
          "base_uri": "https://localhost:8080/"
        },
        "id": "lw3dfvm68AL0",
        "outputId": "15a563c4-bfb5-4588-ffde-d2fc3f614be4"
      },
      "execution_count": 76,
      "outputs": [
        {
          "output_type": "execute_result",
          "data": {
            "text/plain": [
              "<tf.Tensor: shape=(45000, 9, 128), dtype=float32, numpy=\n",
              "array([[[ 0.03927414,  0.00396653,  0.02472028, ...,  0.03601636,\n",
              "          0.00222332, -0.04184022],\n",
              "        [-0.01340784, -0.02186679, -0.04677768, ..., -0.00768391,\n",
              "          0.03920133, -0.04078103],\n",
              "        [ 0.04304954, -0.00171451,  0.0053714 , ...,  0.02229932,\n",
              "         -0.03704657, -0.04109759],\n",
              "        ...,\n",
              "        [-0.03823211, -0.0339885 ,  0.03883294, ...,  0.01517479,\n",
              "         -0.01019276,  0.02454752],\n",
              "        [ 0.02990464,  0.03403423,  0.045795  , ...,  0.03721963,\n",
              "         -0.02136707,  0.00066513],\n",
              "        [ 0.01611848,  0.01386014, -0.02388844, ...,  0.04274391,\n",
              "         -0.04623887, -0.00642437]],\n",
              "\n",
              "       [[ 0.02523077, -0.04995976,  0.0259284 , ..., -0.00221673,\n",
              "          0.04804603,  0.0151701 ],\n",
              "        [-0.01820042,  0.04126177, -0.0394427 , ..., -0.03404403,\n",
              "          0.02441796,  0.03746346],\n",
              "        [ 0.03927414,  0.00396653,  0.02472028, ...,  0.03601636,\n",
              "          0.00222332, -0.04184022],\n",
              "        ...,\n",
              "        [ 0.02362006,  0.03000617,  0.01578039, ...,  0.01492925,\n",
              "         -0.02019565, -0.04740069],\n",
              "        [ 0.00534626,  0.00780761, -0.04132666, ...,  0.00935669,\n",
              "         -0.01877004,  0.01881853],\n",
              "        [-0.02793393, -0.03633189, -0.04119156, ..., -0.03394555,\n",
              "          0.00471771,  0.00986958]],\n",
              "\n",
              "       [[ 0.0155198 ,  0.03497798,  0.00062931, ...,  0.04618621,\n",
              "          0.00953482, -0.01573775],\n",
              "        [ 0.02131034, -0.03848972,  0.04848925, ..., -0.04337696,\n",
              "         -0.01049799,  0.01797629],\n",
              "        [-0.02565762,  0.00418795, -0.03446455, ..., -0.01721091,\n",
              "         -0.01146049, -0.02791178],\n",
              "        ...,\n",
              "        [ 0.03492439, -0.02404742,  0.00909745, ...,  0.04492721,\n",
              "         -0.03927972,  0.02271337],\n",
              "        [-0.02573863,  0.01438321, -0.04426103, ...,  0.02174849,\n",
              "          0.03577255,  0.04961281],\n",
              "        [ 0.02363196, -0.01843418, -0.03358052, ..., -0.03183615,\n",
              "         -0.03089999, -0.03773068]],\n",
              "\n",
              "       ...,\n",
              "\n",
              "       [[ 0.01574861,  0.02150445, -0.01149647, ..., -0.04676348,\n",
              "          0.01196736, -0.0018797 ],\n",
              "        [ 0.00534626,  0.00780761, -0.04132666, ...,  0.00935669,\n",
              "         -0.01877004,  0.01881853],\n",
              "        [-0.04486803, -0.04623674, -0.04748733, ...,  0.03050328,\n",
              "         -0.04742377,  0.04191998],\n",
              "        ...,\n",
              "        [-0.02346954, -0.04444651,  0.0371554 , ..., -0.00045103,\n",
              "         -0.01800687, -0.04662826],\n",
              "        [ 0.0163382 ,  0.0193416 , -0.02952029, ..., -0.03366788,\n",
              "         -0.04102601, -0.00673693],\n",
              "        [ 0.03653261,  0.02291187,  0.0343391 , ..., -0.02987753,\n",
              "         -0.00731837,  0.03497726]],\n",
              "\n",
              "       [[ 0.01574861,  0.02150445, -0.01149647, ..., -0.04676348,\n",
              "          0.01196736, -0.0018797 ],\n",
              "        [ 0.00534626,  0.00780761, -0.04132666, ...,  0.00935669,\n",
              "         -0.01877004,  0.01881853],\n",
              "        [-0.02058867,  0.00862461,  0.03854213, ...,  0.03032165,\n",
              "         -0.03757993,  0.03225783],\n",
              "        ...,\n",
              "        [-0.02249187,  0.04844153,  0.04664174, ...,  0.01538286,\n",
              "          0.0117301 ,  0.03606589],\n",
              "        [ 0.04858721,  0.04782311, -0.03244966, ..., -0.0443887 ,\n",
              "         -0.04729846,  0.01537946],\n",
              "        [-0.0455066 , -0.00779831,  0.03350521, ...,  0.03077482,\n",
              "         -0.01291091, -0.04792001]],\n",
              "\n",
              "       [[ 0.01574861,  0.02150445, -0.01149647, ..., -0.04676348,\n",
              "          0.01196736, -0.0018797 ],\n",
              "        [ 0.0312695 , -0.04246603,  0.01828914, ...,  0.01138824,\n",
              "          0.02290573,  0.00146071],\n",
              "        [-0.01795856,  0.01037995,  0.02891611, ...,  0.01549042,\n",
              "          0.01146759,  0.04445729],\n",
              "        ...,\n",
              "        [ 0.0225734 ,  0.00958519,  0.01270321, ...,  0.02991743,\n",
              "          0.01764325, -0.03201501],\n",
              "        [-0.00418618,  0.00479331, -0.01834489, ..., -0.01886423,\n",
              "          0.01482962,  0.01222663],\n",
              "        [-0.0316992 , -0.0024736 , -0.02594783, ..., -0.03363134,\n",
              "          0.02510256,  0.01269546]]], dtype=float32)>"
            ]
          },
          "metadata": {},
          "execution_count": 76
        }
      ]
    },
    {
      "cell_type": "markdown",
      "source": [
        "#Попередню оцінка точності моделі за допомогою методу Naive Bayes."
      ],
      "metadata": {
        "id": "X6gw0lYWJ44p"
      }
    },
    {
      "cell_type": "code",
      "source": [
        "from sklearn.feature_extraction.text import TfidfVectorizer\n",
        "from sklearn.naive_bayes import MultinomialNB\n",
        "from sklearn.pipeline import Pipeline\n",
        "\n",
        "model_0 = Pipeline([\n",
        "                    (\"tfidf\", TfidfVectorizer()), \n",
        "                    (\"clf\", MultinomialNB()) \n",
        "])\n",
        "\n",
        "model_0.fit(train_df['Sentence'], train_df['Y'])"
      ],
      "metadata": {
        "colab": {
          "base_uri": "https://localhost:8080/"
        },
        "id": "wgAx0E7oA1ic",
        "outputId": "6956e775-d09f-4992-e056-14d91f745b71"
      },
      "execution_count": 131,
      "outputs": [
        {
          "output_type": "execute_result",
          "data": {
            "text/plain": [
              "Pipeline(steps=[('tfidf', TfidfVectorizer()), ('clf', MultinomialNB())])"
            ]
          },
          "metadata": {},
          "execution_count": 131
        }
      ]
    },
    {
      "cell_type": "code",
      "source": [
        "baseline_score = model_0.score(test_df['Sentence'], test_df['Y'])\n",
        "print(f\"Our baseline model achieves an accuracy of: {baseline_score*100:.2f}%\")"
      ],
      "metadata": {
        "colab": {
          "base_uri": "https://localhost:8080/"
        },
        "id": "k6Kf9lqxA_hr",
        "outputId": "68df4826-87c3-4a09-8eca-8fc8322ec06a"
      },
      "execution_count": 132,
      "outputs": [
        {
          "output_type": "stream",
          "name": "stdout",
          "text": [
            "Our baseline model achieves an accuracy of: 69.92%\n"
          ]
        }
      ]
    },
    {
      "cell_type": "code",
      "source": [
        "# Make predictions\n",
        "baseline_preds = model_0.predict(test_df['Sentence'])\n",
        "baseline_preds[:20]"
      ],
      "metadata": {
        "colab": {
          "base_uri": "https://localhost:8080/"
        },
        "id": "SlZ8f7axCsu8",
        "outputId": "dd41ad8b-0c03-4ece-934f-1b44c9ccd066"
      },
      "execution_count": 133,
      "outputs": [
        {
          "output_type": "execute_result",
          "data": {
            "text/plain": [
              "array(['LQ_EDIT', 'LQ_EDIT', 'HQ', 'LQ_EDIT', 'LQ_EDIT', 'LQ_CLOSE',\n",
              "       'LQ_CLOSE', 'HQ', 'HQ', 'LQ_CLOSE', 'LQ_CLOSE', 'HQ', 'LQ_CLOSE',\n",
              "       'LQ_CLOSE', 'HQ', 'LQ_EDIT', 'HQ', 'HQ', 'LQ_EDIT', 'LQ_EDIT'],\n",
              "      dtype='<U8')"
            ]
          },
          "metadata": {},
          "execution_count": 133
        }
      ]
    },
    {
      "cell_type": "markdown",
      "source": [
        "#Вирішення задачі класифікації за допомогою методу Feed-forward"
      ],
      "metadata": {
        "id": "bCLiiHBXKED8"
      }
    },
    {
      "cell_type": "code",
      "source": [
        "# Function to evaluate: accuracy, precision, recall, f1-score\n",
        "from sklearn.metrics import accuracy_score, precision_recall_fscore_support\n",
        "\n",
        "def calculate_results(y_true, y_pred):\n",
        "  \"\"\"\n",
        "  Calculates model accuracy, precision, recall and f1 score of a binary classification model.\n",
        "\n",
        "  Args:\n",
        "  -----\n",
        "  y_true = true labels in the form of a 1D array\n",
        "  y_pred = predicted labels in the form of a 1D array\n",
        "\n",
        "  Returns a dictionary of accuracy, precision, recall, f1-score.\n",
        "  \"\"\"\n",
        "  # Calculate model accuracy\n",
        "  model_accuracy = accuracy_score(y_true, y_pred) * 100\n",
        "  # Calculate model precision, recall and f1 score using \"weighted\" average\n",
        "  model_precision, model_recall, model_f1, _ = precision_recall_fscore_support(y_true, y_pred, average=\"weighted\")\n",
        "  model_results = {\"accuracy\": model_accuracy,\n",
        "                  \"precision\": model_precision,\n",
        "                  \"recall\": model_recall,\n",
        "                  \"f1\": model_f1}\n",
        "  return model_results"
      ],
      "metadata": {
        "id": "-OqxbgkkC7Km"
      },
      "execution_count": 121,
      "outputs": []
    },
    {
      "cell_type": "code",
      "source": [
        "# Get baseline results\n",
        "baseline_results = calculate_results(y_true=test_df['Y'],\n",
        "                                     y_pred=baseline_preds)\n",
        "baseline_results"
      ],
      "metadata": {
        "colab": {
          "base_uri": "https://localhost:8080/"
        },
        "id": "HDWzjyfCDAG8",
        "outputId": "ed82c79d-7bb2-4333-929b-d82bb1ed0ca7"
      },
      "execution_count": 136,
      "outputs": [
        {
          "output_type": "execute_result",
          "data": {
            "text/plain": [
              "{'accuracy': 69.92,\n",
              " 'f1': 0.6928100916545702,\n",
              " 'precision': 0.7239615206519482,\n",
              " 'recall': 0.6992}"
            ]
          },
          "metadata": {},
          "execution_count": 136
        }
      ]
    },
    {
      "cell_type": "code",
      "source": [
        "#dense neural network\n",
        "from tensorflow.keras import layers\n",
        "inputs = layers.Input(shape=(1,), dtype=\"string\") # inputs are 1-dimensional strings\n",
        "x = text_vectorizer(inputs) # turn the input text into numbers\n",
        "x = embedding(x) # create an embedding of the numerized numbers\n",
        "x = layers.GlobalAveragePooling1D()(x) # lower the dimensionality of the embedding (try running the model without this layer and see what happens)\n",
        "outputs = layers.Dense(3, activation=\"softmax\")(x) # create the output layer, want binary outputs so use sigmoid activation\n",
        "model_dense = tf.keras.Model(inputs, outputs, name=\"model_dense\") # construct the model"
      ],
      "metadata": {
        "id": "fsbGG2OXElyd"
      },
      "execution_count": 137,
      "outputs": []
    },
    {
      "cell_type": "code",
      "source": [
        "model_dense.compile(loss=\"sparse_categorical_crossentropy\",\n",
        "                optimizer=tf.keras.optimizers.Adam(),\n",
        "                metrics=[\"accuracy\"])\n",
        "\n",
        "model_dense.summary()"
      ],
      "metadata": {
        "colab": {
          "base_uri": "https://localhost:8080/"
        },
        "id": "JSRPJXdJEuoe",
        "outputId": "b2edd1e5-8327-4e4e-d041-d91b07990858"
      },
      "execution_count": 138,
      "outputs": [
        {
          "output_type": "stream",
          "name": "stdout",
          "text": [
            "Model: \"model_dense\"\n",
            "_________________________________________________________________\n",
            " Layer (type)                Output Shape              Param #   \n",
            "=================================================================\n",
            " input_5 (InputLayer)        [(None, 1)]               0         \n",
            "                                                                 \n",
            " text_vectorization_2 (TextV  (None, 9)                0         \n",
            " ectorization)                                                   \n",
            "                                                                 \n",
            " embedding_2 (Embedding)     (None, 9, 128)            1280000   \n",
            "                                                                 \n",
            " global_average_pooling1d_4   (None, 128)              0         \n",
            " (GlobalAveragePooling1D)                                        \n",
            "                                                                 \n",
            " dense_4 (Dense)             (None, 3)                 387       \n",
            "                                                                 \n",
            "=================================================================\n",
            "Total params: 1,280,387\n",
            "Trainable params: 1,280,387\n",
            "Non-trainable params: 0\n",
            "_________________________________________________________________\n"
          ]
        }
      ]
    },
    {
      "cell_type": "code",
      "source": [
        "model_dense_history = model_1.fit(train_df['Sentence'], \n",
        "                              train_df['Target'],\n",
        "                              epochs=5,\n",
        "                              validation_data=(test_df['Sentence'], test_df['Target']))"
      ],
      "metadata": {
        "colab": {
          "base_uri": "https://localhost:8080/"
        },
        "id": "MFLMMd1aE-JE",
        "outputId": "ea3908e2-79ef-4ba6-975a-ec810718f4cc"
      },
      "execution_count": 140,
      "outputs": [
        {
          "output_type": "stream",
          "name": "stdout",
          "text": [
            "Epoch 1/5\n",
            "1407/1407 [==============================] - 13s 9ms/step - loss: 0.4663 - accuracy: 0.7939 - val_loss: 0.7971 - val_accuracy: 0.6889\n",
            "Epoch 2/5\n",
            "1407/1407 [==============================] - 13s 10ms/step - loss: 0.4644 - accuracy: 0.7945 - val_loss: 0.8018 - val_accuracy: 0.6880\n",
            "Epoch 3/5\n",
            "1407/1407 [==============================] - 13s 9ms/step - loss: 0.4638 - accuracy: 0.7948 - val_loss: 0.8072 - val_accuracy: 0.6865\n",
            "Epoch 4/5\n",
            "1407/1407 [==============================] - 13s 9ms/step - loss: 0.4629 - accuracy: 0.7950 - val_loss: 0.8134 - val_accuracy: 0.6874\n",
            "Epoch 5/5\n",
            "1407/1407 [==============================] - 13s 9ms/step - loss: 0.4619 - accuracy: 0.7970 - val_loss: 0.8163 - val_accuracy: 0.6861\n"
          ]
        }
      ]
    },
    {
      "cell_type": "code",
      "source": [
        "model_dense_pred_probs = model_dense.predict(test_df['Sentence'])"
      ],
      "metadata": {
        "id": "lWlKaVtBMQx-"
      },
      "execution_count": 141,
      "outputs": []
    },
    {
      "cell_type": "code",
      "source": [
        "model_dense_preds = tf.squeeze(tf.argmax(model_dense_pred_probs, axis = 1))\n",
        "model_dense_preds"
      ],
      "metadata": {
        "colab": {
          "base_uri": "https://localhost:8080/"
        },
        "id": "qTynEMAbMv5S",
        "outputId": "74e7b75c-c470-44d5-fab5-196eb98722b2"
      },
      "execution_count": 142,
      "outputs": [
        {
          "output_type": "execute_result",
          "data": {
            "text/plain": [
              "<tf.Tensor: shape=(15000,), dtype=int64, numpy=array([0, 0, 1, ..., 0, 1, 1])>"
            ]
          },
          "metadata": {},
          "execution_count": 142
        }
      ]
    },
    {
      "cell_type": "code",
      "source": [
        "model_dense_results = calculate_results(y_true=test_df['Y'],\n",
        "                                    y_pred=model_dense_preds)\n",
        "model_dense_results"
      ],
      "metadata": {
        "colab": {
          "base_uri": "https://localhost:8080/",
          "height": 346
        },
        "id": "oCbPw0JBMQrz",
        "outputId": "3c4d4b5e-3353-4be1-8342-9a12c5e63110"
      },
      "execution_count": 143,
      "outputs": [
        {
          "output_type": "error",
          "ename": "ValueError",
          "evalue": "ignored",
          "traceback": [
            "\u001b[0;31m---------------------------------------------------------------------------\u001b[0m",
            "\u001b[0;31mValueError\u001b[0m                                Traceback (most recent call last)",
            "\u001b[0;32m<ipython-input-143-7ab4548d0a40>\u001b[0m in \u001b[0;36m<module>\u001b[0;34m()\u001b[0m\n\u001b[1;32m      1\u001b[0m model_dense_results = calculate_results(y_true=test_df['Y'],\n\u001b[0;32m----> 2\u001b[0;31m                                     y_pred=model_dense_preds)\n\u001b[0m\u001b[1;32m      3\u001b[0m \u001b[0mmodel_dense_results\u001b[0m\u001b[0;34m\u001b[0m\u001b[0;34m\u001b[0m\u001b[0m\n",
            "\u001b[0;32m<ipython-input-121-eab54528deb0>\u001b[0m in \u001b[0;36mcalculate_results\u001b[0;34m(y_true, y_pred)\u001b[0m\n\u001b[1;32m     16\u001b[0m   \u001b[0mmodel_accuracy\u001b[0m \u001b[0;34m=\u001b[0m \u001b[0maccuracy_score\u001b[0m\u001b[0;34m(\u001b[0m\u001b[0my_true\u001b[0m\u001b[0;34m,\u001b[0m \u001b[0my_pred\u001b[0m\u001b[0;34m)\u001b[0m \u001b[0;34m*\u001b[0m \u001b[0;36m100\u001b[0m\u001b[0;34m\u001b[0m\u001b[0;34m\u001b[0m\u001b[0m\n\u001b[1;32m     17\u001b[0m   \u001b[0;31m# Calculate model precision, recall and f1 score using \"weighted\" average\u001b[0m\u001b[0;34m\u001b[0m\u001b[0;34m\u001b[0m\u001b[0;34m\u001b[0m\u001b[0m\n\u001b[0;32m---> 18\u001b[0;31m   \u001b[0mmodel_precision\u001b[0m\u001b[0;34m,\u001b[0m \u001b[0mmodel_recall\u001b[0m\u001b[0;34m,\u001b[0m \u001b[0mmodel_f1\u001b[0m\u001b[0;34m,\u001b[0m \u001b[0m_\u001b[0m \u001b[0;34m=\u001b[0m \u001b[0mprecision_recall_fscore_support\u001b[0m\u001b[0;34m(\u001b[0m\u001b[0my_true\u001b[0m\u001b[0;34m,\u001b[0m \u001b[0my_pred\u001b[0m\u001b[0;34m,\u001b[0m \u001b[0maverage\u001b[0m\u001b[0;34m=\u001b[0m\u001b[0;34m\"weighted\"\u001b[0m\u001b[0;34m)\u001b[0m\u001b[0;34m\u001b[0m\u001b[0;34m\u001b[0m\u001b[0m\n\u001b[0m\u001b[1;32m     19\u001b[0m   model_results = {\"accuracy\": model_accuracy,\n\u001b[1;32m     20\u001b[0m                   \u001b[0;34m\"precision\"\u001b[0m\u001b[0;34m:\u001b[0m \u001b[0mmodel_precision\u001b[0m\u001b[0;34m,\u001b[0m\u001b[0;34m\u001b[0m\u001b[0;34m\u001b[0m\u001b[0m\n",
            "\u001b[0;32m/usr/local/lib/python3.7/dist-packages/sklearn/metrics/_classification.py\u001b[0m in \u001b[0;36mprecision_recall_fscore_support\u001b[0;34m(y_true, y_pred, beta, labels, pos_label, average, warn_for, sample_weight, zero_division)\u001b[0m\n\u001b[1;32m   1532\u001b[0m     \u001b[0;32mif\u001b[0m \u001b[0mbeta\u001b[0m \u001b[0;34m<\u001b[0m \u001b[0;36m0\u001b[0m\u001b[0;34m:\u001b[0m\u001b[0;34m\u001b[0m\u001b[0;34m\u001b[0m\u001b[0m\n\u001b[1;32m   1533\u001b[0m         \u001b[0;32mraise\u001b[0m \u001b[0mValueError\u001b[0m\u001b[0;34m(\u001b[0m\u001b[0;34m\"beta should be >=0 in the F-beta score\"\u001b[0m\u001b[0;34m)\u001b[0m\u001b[0;34m\u001b[0m\u001b[0;34m\u001b[0m\u001b[0m\n\u001b[0;32m-> 1534\u001b[0;31m     \u001b[0mlabels\u001b[0m \u001b[0;34m=\u001b[0m \u001b[0m_check_set_wise_labels\u001b[0m\u001b[0;34m(\u001b[0m\u001b[0my_true\u001b[0m\u001b[0;34m,\u001b[0m \u001b[0my_pred\u001b[0m\u001b[0;34m,\u001b[0m \u001b[0maverage\u001b[0m\u001b[0;34m,\u001b[0m \u001b[0mlabels\u001b[0m\u001b[0;34m,\u001b[0m \u001b[0mpos_label\u001b[0m\u001b[0;34m)\u001b[0m\u001b[0;34m\u001b[0m\u001b[0;34m\u001b[0m\u001b[0m\n\u001b[0m\u001b[1;32m   1535\u001b[0m \u001b[0;34m\u001b[0m\u001b[0m\n\u001b[1;32m   1536\u001b[0m     \u001b[0;31m# Calculate tp_sum, pred_sum, true_sum ###\u001b[0m\u001b[0;34m\u001b[0m\u001b[0;34m\u001b[0m\u001b[0;34m\u001b[0m\u001b[0m\n",
            "\u001b[0;32m/usr/local/lib/python3.7/dist-packages/sklearn/metrics/_classification.py\u001b[0m in \u001b[0;36m_check_set_wise_labels\u001b[0;34m(y_true, y_pred, average, labels, pos_label)\u001b[0m\n\u001b[1;32m   1339\u001b[0m     \u001b[0;31m# Convert to Python primitive type to avoid NumPy type / Python str\u001b[0m\u001b[0;34m\u001b[0m\u001b[0;34m\u001b[0m\u001b[0;34m\u001b[0m\u001b[0m\n\u001b[1;32m   1340\u001b[0m     \u001b[0;31m# comparison. See https://github.com/numpy/numpy/issues/6784\u001b[0m\u001b[0;34m\u001b[0m\u001b[0;34m\u001b[0m\u001b[0;34m\u001b[0m\u001b[0m\n\u001b[0;32m-> 1341\u001b[0;31m     \u001b[0mpresent_labels\u001b[0m \u001b[0;34m=\u001b[0m \u001b[0munique_labels\u001b[0m\u001b[0;34m(\u001b[0m\u001b[0my_true\u001b[0m\u001b[0;34m,\u001b[0m \u001b[0my_pred\u001b[0m\u001b[0;34m)\u001b[0m\u001b[0;34m.\u001b[0m\u001b[0mtolist\u001b[0m\u001b[0;34m(\u001b[0m\u001b[0;34m)\u001b[0m\u001b[0;34m\u001b[0m\u001b[0;34m\u001b[0m\u001b[0m\n\u001b[0m\u001b[1;32m   1342\u001b[0m     \u001b[0;32mif\u001b[0m \u001b[0maverage\u001b[0m \u001b[0;34m==\u001b[0m \u001b[0;34m\"binary\"\u001b[0m\u001b[0;34m:\u001b[0m\u001b[0;34m\u001b[0m\u001b[0;34m\u001b[0m\u001b[0m\n\u001b[1;32m   1343\u001b[0m         \u001b[0;32mif\u001b[0m \u001b[0my_type\u001b[0m \u001b[0;34m==\u001b[0m \u001b[0;34m\"binary\"\u001b[0m\u001b[0;34m:\u001b[0m\u001b[0;34m\u001b[0m\u001b[0;34m\u001b[0m\u001b[0m\n",
            "\u001b[0;32m/usr/local/lib/python3.7/dist-packages/sklearn/utils/multiclass.py\u001b[0m in \u001b[0;36munique_labels\u001b[0;34m(*ys)\u001b[0m\n\u001b[1;32m    106\u001b[0m     \u001b[0;31m# Check that we don't mix string type with number type\u001b[0m\u001b[0;34m\u001b[0m\u001b[0;34m\u001b[0m\u001b[0;34m\u001b[0m\u001b[0m\n\u001b[1;32m    107\u001b[0m     \u001b[0;32mif\u001b[0m \u001b[0mlen\u001b[0m\u001b[0;34m(\u001b[0m\u001b[0mset\u001b[0m\u001b[0;34m(\u001b[0m\u001b[0misinstance\u001b[0m\u001b[0;34m(\u001b[0m\u001b[0mlabel\u001b[0m\u001b[0;34m,\u001b[0m \u001b[0mstr\u001b[0m\u001b[0;34m)\u001b[0m \u001b[0;32mfor\u001b[0m \u001b[0mlabel\u001b[0m \u001b[0;32min\u001b[0m \u001b[0mys_labels\u001b[0m\u001b[0;34m)\u001b[0m\u001b[0;34m)\u001b[0m \u001b[0;34m>\u001b[0m \u001b[0;36m1\u001b[0m\u001b[0;34m:\u001b[0m\u001b[0;34m\u001b[0m\u001b[0;34m\u001b[0m\u001b[0m\n\u001b[0;32m--> 108\u001b[0;31m         \u001b[0;32mraise\u001b[0m \u001b[0mValueError\u001b[0m\u001b[0;34m(\u001b[0m\u001b[0;34m\"Mix of label input types (string and number)\"\u001b[0m\u001b[0;34m)\u001b[0m\u001b[0;34m\u001b[0m\u001b[0;34m\u001b[0m\u001b[0m\n\u001b[0m\u001b[1;32m    109\u001b[0m \u001b[0;34m\u001b[0m\u001b[0m\n\u001b[1;32m    110\u001b[0m     \u001b[0;32mreturn\u001b[0m \u001b[0mnp\u001b[0m\u001b[0;34m.\u001b[0m\u001b[0marray\u001b[0m\u001b[0;34m(\u001b[0m\u001b[0msorted\u001b[0m\u001b[0;34m(\u001b[0m\u001b[0mys_labels\u001b[0m\u001b[0;34m)\u001b[0m\u001b[0;34m)\u001b[0m\u001b[0;34m\u001b[0m\u001b[0;34m\u001b[0m\u001b[0m\n",
            "\u001b[0;31mValueError\u001b[0m: Mix of label input types (string and number)"
          ]
        }
      ]
    },
    {
      "cell_type": "markdown",
      "source": [
        "#Графічне відображення тренування моделі."
      ],
      "metadata": {
        "id": "KVheflfXKZtJ"
      }
    },
    {
      "cell_type": "code",
      "source": [
        "from matplotlib import pyplot as plt\n",
        "\n",
        "def plot_history(history): \n",
        "    plt.plot(history.history['accuracy'])\n",
        "    plt.plot(history.history['val_accuracy'])\n",
        "    plt.title('model accuracy')\n",
        "    plt.ylabel('accuracy')\n",
        "    plt.xlabel('epoch')\n",
        "    plt.legend(['train', 'test'], loc='upper left')\n",
        "    plt.show()\n",
        "    plt.plot(history.history['loss'])\n",
        "    plt.plot(history.history['val_loss'])\n",
        "    plt.title('model loss')\n",
        "    plt.ylabel('loss')\n",
        "    plt.xlabel('epoch')\n",
        "    plt.legend(['train', 'test'], loc='upper left')\n",
        "    plt.show()"
      ],
      "metadata": {
        "id": "kuUvEMAXKjsf"
      },
      "execution_count": 114,
      "outputs": []
    },
    {
      "cell_type": "code",
      "source": [
        "plot_history(model_dense_history)"
      ],
      "metadata": {
        "colab": {
          "base_uri": "https://localhost:8080/",
          "height": 573
        },
        "id": "ICO2wcH8Nu7U",
        "outputId": "0c3bd288-e5a8-4f48-f475-c9d512762512"
      },
      "execution_count": 115,
      "outputs": [
        {
          "output_type": "display_data",
          "data": {
            "image/png": "[encoded data removed]",
            "text/plain": [
              "<Figure size 432x288 with 1 Axes>"
            ]
          },
          "metadata": {
            "needs_background": "light"
          }
        },
        {
          "output_type": "display_data",
          "data": {
            "image/png": "[encoded data removed]",
            "text/plain": [
              "<Figure size 432x288 with 1 Axes>"
            ]
          },
          "metadata": {
            "needs_background": "light"
          }
        }
      ]
    },
    {
      "cell_type": "markdown",
      "source": [
        "#Порівняння результатів моделей"
      ],
      "metadata": {
        "id": "ZPVaXNQdKdA7"
      }
    },
    {
      "cell_type": "code",
      "source": [
        "def compare_base_model_to_new_model(baseline_results, new_model_results):\n",
        "  for key, value in baseline_results.items():\n",
        "    print(f\"Base model {key}: {value:.2f}, New model {key}: {new_model_results[key]:.2f}, Difference: {new_model_results[key]-value:.2f}\")"
      ],
      "metadata": {
        "id": "YmUlDomeKndE"
      },
      "execution_count": 116,
      "outputs": []
    },
    {
      "cell_type": "code",
      "source": [
        "compare_base_model_to_new_model(baseline_results, model_dense_results)"
      ],
      "metadata": {
        "colab": {
          "base_uri": "https://localhost:8080/"
        },
        "id": "oCLJz1zBOd63",
        "outputId": "7810051f-8e01-4d86-c3e8-e3ae34d96343"
      },
      "execution_count": 117,
      "outputs": [
        {
          "output_type": "stream",
          "name": "stdout",
          "text": [
            "Base model accuracy: 69.92, New model accuracy: 42.70, Difference: -27.22\n",
            "Base model precision: 0.72, New model precision: 0.41, Difference: -0.31\n",
            "Base model recall: 0.70, New model recall: 0.43, Difference: -0.27\n",
            "Base model f1: 0.69, New model f1: 0.39, Difference: -0.30\n"
          ]
        }
      ]
    }
  ]
}