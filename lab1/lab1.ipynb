{
 "cells": [
  {
   "cell_type": "markdown",
   "id": "b793fdae-cae0-4022-8c6a-ea3b2734d447",
   "metadata": {},
   "source": [
    "# Getting started with TensorFlow (lab1)"
   ]
  },
  {
   "cell_type": "markdown",
   "id": "72b1e290-29af-454f-baea-05f704e79854",
   "metadata": {},
   "source": [
    "## NumPy overwiev"
   ]
  },
  {
   "cell_type": "markdown",
   "id": "9d532cae-f7af-43d1-806c-94d644c497a8",
   "metadata": {},
   "source": [
    "Let's import needed libraries"
   ]
  },
  {
   "cell_type": "code",
   "execution_count": 16,
   "id": "0ef302e1-9c96-4d44-b2d1-b1b94cab85d4",
   "metadata": {},
   "outputs": [],
   "source": [
    "import numpy as np\n",
    "import tensorflow as tf"
   ]
  },
  {
   "cell_type": "markdown",
   "id": "e65fd6fe-5952-4205-b3de-c3fd6f2c8121",
   "metadata": {},
   "source": [
    "1. Let's create an array to make operations with"
   ]
  },
  {
   "cell_type": "code",
   "execution_count": 27,
   "id": "a7bd6a0a-2441-483d-8e6c-b715eb5b04de",
   "metadata": {},
   "outputs": [
    {
     "name": "stdout",
     "output_type": "stream",
     "text": [
      "[ 1  2  3  4  5  6  7  8  9 10 11 12]\n"
     ]
    }
   ],
   "source": [
    "arr1 = np.array([1, 2, 3, 4, 5, 6, 7, 8, 9, 10, 11, 12])\n",
    "print(arr)"
   ]
  },
  {
   "cell_type": "code",
   "execution_count": 48,
   "id": "e8135341-b383-4d13-a466-cfdf0abc8088",
   "metadata": {},
   "outputs": [
    {
     "name": "stdout",
     "output_type": "stream",
     "text": [
      "[ 4  5  6  7  8  9 10 11 12 13 14 15]\n",
      "[  1   4   9  16  25  36  49  64  81 100 121 144]\n"
     ]
    }
   ],
   "source": [
    "# basic operations with scalars\n",
    "print(arr1 + 3)\n",
    "print(arr1**2)"
   ]
  },
  {
   "cell_type": "code",
   "execution_count": 64,
   "id": "27977faf-a421-4039-bd70-104f115f886c",
   "metadata": {},
   "outputs": [
    {
     "name": "stdout",
     "output_type": "stream",
     "text": [
      "Sum of array: 78\n",
      "Min value: 1\n",
      "Mean of array: 6.5\n",
      "Median of array: 6.5\n"
     ]
    }
   ],
   "source": [
    "# basic operations with arrays\n",
    "print(\"Sum of array: \" + str(np.sum(arr1)))\n",
    "print(\"Min value: \" + str(np.min(arr1)))\n",
    "print(\"Mean of array: \" + str(np.mean(arr1)))\n",
    "print(\"Median of array: \" + str(np.median(arr1)))"
   ]
  },
  {
   "cell_type": "code",
   "execution_count": 61,
   "id": "8c691ab9-fefd-49ae-818e-66e9a0107317",
   "metadata": {},
   "outputs": [
    {
     "name": "stdout",
     "output_type": "stream",
     "text": [
      "[0. 0. 0. 0. 0. 0. 0. 0. 0. 0.]\n"
     ]
    }
   ],
   "source": [
    "# creating an array of zeros\n",
    "arr2 = np.zeros(10)\n",
    "print(arr2)"
   ]
  },
  {
   "cell_type": "code",
   "execution_count": 50,
   "id": "8d5501f3-a9ff-4951-8024-ce06ad697831",
   "metadata": {},
   "outputs": [
    {
     "name": "stdout",
     "output_type": "stream",
     "text": [
      "[[1. 1. 1. 1.]\n",
      " [1. 1. 1. 1.]\n",
      " [1. 1. 1. 1.]\n",
      " [1. 1. 1. 1.]]\n"
     ]
    }
   ],
   "source": [
    "# creating matrix of ones\n",
    "arr3 = np.ones((4,4))\n",
    "print(arr3)"
   ]
  },
  {
   "cell_type": "markdown",
   "id": "b3f99854-39e1-4e07-a4e9-7357bc53f44e",
   "metadata": {},
   "source": [
    "2. Lets use *arange()* and *random()* functions with NumPy"
   ]
  },
  {
   "cell_type": "code",
   "execution_count": 65,
   "id": "a7a172ed-703a-4dc7-9f62-21924ade02e2",
   "metadata": {},
   "outputs": [
    {
     "name": "stdout",
     "output_type": "stream",
     "text": [
      "[[ 0  1  2  3  4]\n",
      " [ 5  6  7  8  9]\n",
      " [10 11 12 13 14]]\n"
     ]
    }
   ],
   "source": [
    "# creating a matrix 3x5 size in interval from 0 to 14\n",
    "arr4 = np.arange(15).reshape(3, 5)\n",
    "print(arr4)"
   ]
  },
  {
   "cell_type": "code",
   "execution_count": 66,
   "id": "2aaaceb7-7413-42db-9a7e-0f7328f7c1fd",
   "metadata": {},
   "outputs": [
    {
     "name": "stdout",
     "output_type": "stream",
     "text": [
      "[[0.44821893 0.89720853 1.2020921 ]\n",
      " [0.19369152 0.34974104 0.96997287]\n",
      " [0.21008966 0.33919781 1.09824013]]\n"
     ]
    }
   ],
   "source": [
    "# creating a random matrix and product of two matrix\n",
    "arr5 = np.random.rand(3,3)\n",
    "print(np.dot(arr5, arr5))"
   ]
  },
  {
   "cell_type": "markdown",
   "id": "edde72b6-732e-426d-8b40-d431e1383653",
   "metadata": {},
   "source": [
    "## TensorFlow overview"
   ]
  },
  {
   "cell_type": "markdown",
   "id": "f03c4a7a-2337-45d4-9cb5-2df088252f52",
   "metadata": {},
   "source": [
    "1. let's create a basic array of data to make some operation with that"
   ]
  },
  {
   "cell_type": "code",
   "execution_count": 90,
   "id": "3b56c63b-1839-4d90-9c9b-8c4ca411c190",
   "metadata": {},
   "outputs": [
    {
     "data": {
      "text/plain": [
       "(<tf.Variable 'Variable:0' shape=(2,) dtype=int32, numpy=array([10,  7], dtype=int32)>,\n",
       " <tf.Tensor: shape=(2,), dtype=int32, numpy=array([10,  7], dtype=int32)>)"
      ]
     },
     "execution_count": 90,
     "metadata": {},
     "output_type": "execute_result"
    }
   ],
   "source": [
    "# Creating tensor with tf.Variable() and tf.constant()\n",
    "changeable_tensor = tf.Variable([10, 7])\n",
    "unchangeable_tensor = tf.constant([10, 7])\n",
    "changeable_tensor, unchangeable_tensor"
   ]
  },
  {
   "cell_type": "code",
   "execution_count": 95,
   "id": "3e26bf86-f843-4adf-ad45-d328e0424c14",
   "metadata": {},
   "outputs": [
    {
     "data": {
      "text/plain": [
       "<tf.Variable 'Variable:0' shape=(7, 7) dtype=float32, numpy=\n",
       "array([[5.026022  , 5.3273506 , 1.2275047 , 4.2048526 , 2.1088648 ,\n",
       "        2.2724438 , 1.7091    ],\n",
       "       [1.0169008 , 3.1463668 , 5.5835104 , 2.1998582 , 5.463565  ,\n",
       "        4.2202053 , 5.2027893 ],\n",
       "       [6.696681  , 5.0102015 , 0.8110671 , 3.7025254 , 3.9684732 ,\n",
       "        5.734307  , 2.0690534 ],\n",
       "       [3.9662457 , 5.080948  , 0.03965473, 4.7244163 , 5.355527  ,\n",
       "        4.634552  , 3.0033436 ],\n",
       "       [3.661502  , 4.6547475 , 2.64708   , 4.899432  , 5.587304  ,\n",
       "        2.8901892 , 5.6103077 ],\n",
       "       [1.84389   , 2.0908785 , 2.0789611 , 6.162301  , 4.2339463 ,\n",
       "        5.4699574 , 5.2972417 ],\n",
       "       [1.7030954 , 4.5926332 , 7.583365  , 3.2096329 , 7.9143023 ,\n",
       "        5.169727  , 1.3830512 ]], dtype=float32)>"
      ]
     },
     "execution_count": 95,
     "metadata": {},
     "output_type": "execute_result"
    }
   ],
   "source": [
    "#creating tensor of all ones\n",
    "tensor_zeros = tf.Variable(tf.zeros((4,4,4)))\n",
    "#creating tensor with normal distribution\n",
    "tensor_rand_norm = tf.Variable(tf.random.normal((7,7),mean=4, stddev=2))\n",
    "# creating tensor using uniform distribution\n",
    "tensor_rand_int = tf.Variable(tf.random.uniform((4,4,4), minval=6, maxval=10, dtype=tf.dtypes.int32, seed=42))\n",
    "tensor_rand_norm"
   ]
  },
  {
   "cell_type": "markdown",
   "id": "816e56bd-2500-41c2-9541-93994074af2a",
   "metadata": {},
   "source": [
    "2. Now we can make some basic operations using TensorFlow"
   ]
  },
  {
   "cell_type": "code",
   "execution_count": 97,
   "id": "14bf1e40-ee1c-419d-91dd-90c04e969c3f",
   "metadata": {},
   "outputs": [
    {
     "data": {
      "text/plain": [
       "<tf.Tensor: shape=(4, 4, 4), dtype=int32, numpy=\n",
       "array([[[90, 90, 60, 90],\n",
       "        [70, 70, 80, 60],\n",
       "        [70, 80, 80, 60],\n",
       "        [60, 60, 80, 70]],\n",
       "\n",
       "       [[90, 70, 60, 70],\n",
       "        [70, 70, 70, 60],\n",
       "        [90, 70, 60, 90],\n",
       "        [80, 60, 70, 60]],\n",
       "\n",
       "       [[70, 70, 70, 90],\n",
       "        [60, 70, 90, 90],\n",
       "        [90, 80, 60, 70],\n",
       "        [70, 70, 90, 60]],\n",
       "\n",
       "       [[80, 90, 80, 90],\n",
       "        [70, 60, 60, 60],\n",
       "        [90, 80, 80, 60],\n",
       "        [70, 90, 80, 90]]], dtype=int32)>"
      ]
     },
     "execution_count": 97,
     "metadata": {},
     "output_type": "execute_result"
    }
   ],
   "source": [
    "# basic operations\n",
    "tensor_rand_int * 10"
   ]
  },
  {
   "cell_type": "code",
   "execution_count": 98,
   "id": "294631fe-cdba-43a2-a9db-0c84381865e1",
   "metadata": {},
   "outputs": [
    {
     "data": {
      "text/plain": [
       "<tf.Tensor: shape=(), dtype=float32, numpy=4.2048526>"
      ]
     },
     "execution_count": 98,
     "metadata": {},
     "output_type": "execute_result"
    }
   ],
   "source": [
    "# transpose matrix\n",
    "tf.transpose(tensor_rand_norm[0,3])"
   ]
  },
  {
   "cell_type": "code",
   "execution_count": 107,
   "id": "2cf4ac72-c122-4d9f-84a2-8e2ce11c45ee",
   "metadata": {},
   "outputs": [
    {
     "data": {
      "text/plain": [
       "<tf.Variable 'UnreadVariable' shape=(7, 7) dtype=float32, numpy=\n",
       "array([[5.026022  , 5.3273506 , 1.2275047 , 4.2048526 , 2.1088648 ,\n",
       "        2.2724438 , 1.7091    ],\n",
       "       [1.0169008 , 3.1463668 , 5.5835104 , 2.1998582 , 5.463565  ,\n",
       "        4.2202053 , 5.2027893 ],\n",
       "       [6.696681  , 5.0102015 , 0.8110671 , 3.7025254 , 3.9684732 ,\n",
       "        5.734307  , 2.0690534 ],\n",
       "       [3.9662457 , 5.080948  , 0.03965473, 2.7182    , 5.355527  ,\n",
       "        4.634552  , 3.0033436 ],\n",
       "       [3.661502  , 4.6547475 , 2.64708   , 4.899432  , 5.587304  ,\n",
       "        2.8901892 , 5.6103077 ],\n",
       "       [1.84389   , 2.0908785 , 2.0789611 , 6.162301  , 4.2339463 ,\n",
       "        5.4699574 , 5.2972417 ],\n",
       "       [1.7030954 , 4.5926332 , 7.583365  , 3.2096329 , 7.9143023 ,\n",
       "        5.169727  , 1.3830512 ]], dtype=float32)>"
      ]
     },
     "execution_count": 107,
     "metadata": {},
     "output_type": "execute_result"
    }
   ],
   "source": [
    "# update \n",
    "tensor_rand_norm[3,3].assign(2.7182)"
   ]
  },
  {
   "cell_type": "code",
   "execution_count": 108,
   "id": "740d8cf7-f9e4-4efd-bd82-2d56b8a65997",
   "metadata": {},
   "outputs": [
    {
     "data": {
      "text/plain": [
       "<tf.Tensor: shape=(2, 4, 4), dtype=int32, numpy=\n",
       "array([[[9, 9, 6, 9],\n",
       "        [7, 7, 8, 6],\n",
       "        [7, 8, 8, 6],\n",
       "        [6, 6, 8, 7]],\n",
       "\n",
       "       [[9, 7, 6, 7],\n",
       "        [7, 7, 7, 6],\n",
       "        [9, 7, 6, 9],\n",
       "        [8, 6, 7, 6]]], dtype=int32)>"
      ]
     },
     "execution_count": 108,
     "metadata": {},
     "output_type": "execute_result"
    }
   ],
   "source": [
    "#removing parts of tensor\n",
    "tensor_rand_int = tf.concat([tensor_rand_int[:2], tensor_rand_int[3:]], axis=0) # Remove the 2-rd sub-tensor\n",
    "tensor_rand_int"
   ]
  },
  {
   "cell_type": "code",
   "execution_count": 110,
   "id": "ba3dbfd5-53c8-46a4-b296-e5b0f780b08d",
   "metadata": {},
   "outputs": [
    {
     "data": {
      "text/plain": [
       "<tf.Tensor: shape=(4, 8), dtype=int32, numpy=\n",
       "array([[9, 9, 6, 9, 7, 7, 8, 6],\n",
       "       [7, 8, 8, 6, 6, 6, 8, 7],\n",
       "       [9, 7, 6, 7, 7, 7, 7, 6],\n",
       "       [9, 7, 6, 9, 8, 6, 7, 6]], dtype=int32)>"
      ]
     },
     "execution_count": 110,
     "metadata": {},
     "output_type": "execute_result"
    }
   ],
   "source": [
    "#reshape matrix\n",
    "tf.reshape(tensor_rand_int,(4,8))"
   ]
  },
  {
   "cell_type": "code",
   "execution_count": 111,
   "id": "15936b6b-06cf-4f2c-b4a7-e495d2f1edea",
   "metadata": {},
   "outputs": [
    {
     "data": {
      "text/plain": [
       "<tf.Variable 'Variable:0' shape=(5, 5, 5) dtype=float64, numpy=\n",
       "array([[[ 0.36983312,  0.40041723,  0.60891625,  0.86458655,\n",
       "         -0.80561246],\n",
       "        [ 1.24778811,  0.90648663,  0.41888996, -0.68015468,\n",
       "          1.01881324],\n",
       "        [ 0.65838267, -0.40789889, -0.90802632,  1.10863676,\n",
       "         -0.27872799],\n",
       "        [-0.03443191,  0.01146922,  0.13250903, -1.3287509 ,\n",
       "         -0.1394355 ],\n",
       "        [ 1.59925533, -0.21144622, -0.45325456,  0.36166035,\n",
       "         -0.96936142]],\n",
       "\n",
       "       [[ 1.08651255, -0.97317851,  0.64140028, -0.116933  ,\n",
       "         -0.12376117],\n",
       "        [-0.77433339, -1.73623062, -1.82394871, -1.5265272 ,\n",
       "          0.22223805],\n",
       "        [ 0.7286334 , -0.64285394,  1.50004638, -0.54377462,\n",
       "          0.55840171],\n",
       "        [ 0.04623751,  0.01883009,  0.338096  , -1.56620177,\n",
       "          0.81989369],\n",
       "        [ 0.42883422,  1.03762345, -1.61580344,  0.93963094,\n",
       "         -0.13917068]],\n",
       "\n",
       "       [[ 0.34684442, -0.09511668,  0.40929116, -0.57020187,\n",
       "          0.91287125],\n",
       "        [-1.33926619, -1.96719265, -0.09574903,  1.15798048,\n",
       "          0.49290074],\n",
       "        [ 0.42751199,  0.68315565,  0.64317561,  0.71518521,\n",
       "         -0.05741564],\n",
       "        [-0.6297576 , -0.55255008,  1.89260579,  2.27088533,\n",
       "          0.729285  ],\n",
       "        [ 0.11708446,  0.36735613,  0.68651763, -0.21771583,\n",
       "         -0.63598177]],\n",
       "\n",
       "       [[-0.92774297, -1.2890773 ,  2.40782595, -0.4845247 ,\n",
       "          0.01240875],\n",
       "        [ 0.07312066,  1.9360146 , -0.94067765,  2.62952428,\n",
       "         -0.0437234 ],\n",
       "        [ 0.05337504,  0.56973631,  0.60607965, -0.28439661,\n",
       "          0.90800509],\n",
       "        [ 1.45687084, -2.35825436,  0.90284528, -0.11428179,\n",
       "         -0.68348432],\n",
       "        [ 0.94229404,  0.19778987,  0.51212968, -0.03911632,\n",
       "          0.09701148]],\n",
       "\n",
       "       [[ 0.76186237, -1.8354245 , -0.35745235, -0.16045924,\n",
       "         -0.76535247],\n",
       "        [-0.36721284, -0.33114901,  2.15682856, -1.32544619,\n",
       "          0.81305195],\n",
       "        [ 0.98449055,  0.82068852, -0.96044986,  0.06917913,\n",
       "         -0.28379949],\n",
       "        [-0.75515044, -1.40650313, -0.8825498 ,  0.92790073,\n",
       "          0.06488162],\n",
       "        [-1.37546277, -2.42302775, -2.73043615, -0.55575095,\n",
       "         -0.07835413]]])>"
      ]
     },
     "execution_count": 111,
     "metadata": {},
     "output_type": "execute_result"
    }
   ],
   "source": [
    "tf.constant(np.random.randint(0, 25, size=(5,5,5)))\n",
    "tf.Variable(np.random.randn(5,5,5))"
   ]
  },
  {
   "cell_type": "markdown",
   "id": "5eb81513-cff2-4aa1-bfa8-d9d60b49c91b",
   "metadata": {},
   "source": [
    "3. Let's make operations with tensor using NumPy "
   ]
  },
  {
   "cell_type": "code",
   "execution_count": 112,
   "id": "6359106d-b928-4c55-abc4-f57fb05688be",
   "metadata": {},
   "outputs": [
    {
     "data": {
      "text/plain": [
       "(array([ 1,  2,  3,  4,  5,  6,  7,  8,  9, 10, 11, 12], dtype=int32),\n",
       " <tf.Tensor: shape=(2, 6), dtype=int32, numpy=\n",
       " array([[ 1,  2,  3,  4,  5,  6],\n",
       "        [ 7,  8,  9, 10, 11, 12]], dtype=int32)>)"
      ]
     },
     "execution_count": 112,
     "metadata": {},
     "output_type": "execute_result"
    }
   ],
   "source": [
    "#creating an array between 1 and 13\n",
    "numpy_A = np.arange(1, 13, dtype=np.int32) \n",
    "A = tf.constant(numpy_A,  \n",
    "                shape=[2,6])\n",
    "numpy_A, A"
   ]
  }
 ],
 "metadata": {
  "kernelspec": {
   "display_name": "Python 3 (ipykernel)",
   "language": "python",
   "name": "python3"
  },
  "language_info": {
   "codemirror_mode": {
    "name": "ipython",
    "version": 3
   },
   "file_extension": ".py",
   "mimetype": "text/x-python",
   "name": "python",
   "nbconvert_exporter": "python",
   "pygments_lexer": "ipython3",
   "version": "3.8.10"
  }
 },
 "nbformat": 4,
 "nbformat_minor": 5
}
